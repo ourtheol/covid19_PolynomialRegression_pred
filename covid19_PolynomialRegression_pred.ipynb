{
 "cells": [
  {
   "cell_type": "markdown",
   "metadata": {},
   "source": [
    "### Polynomial regression on the confirmed cases of COVID19 time series dataset\n",
    "22/03/2020\n",
    "\n",
    "In an outbreak of an infectious disease it is important to not only study the number of deaths, but also the growth rate of the number of people that get infected by the pathogen, in order to have a clear image of the state of the pandemic. Due to global deficiency in clinical tests that verify whether an individual is infected or not from the corona virus, it is essential to develop tools that can accurately assess the state of the pandemic.\n",
    "\n",
    "Time series data from different countries (China, South Korea, Japan, Italy, Spain, France, UK, Germany, Netherlands, USA, and Greece) retrieved from the kaggle website (\"Novel Corona Virus 2019 Dataset\", 2020 https://www.kaggle.com/sudalairajkumar/novel-corona-virus-2019-dataset) were used in order to identify the optimal model from the simple parametric family of polynomials (with degree up to 9)."
   ]
  },
  {
   "cell_type": "code",
   "execution_count": 1,
   "metadata": {},
   "outputs": [],
   "source": [
    "import numpy as np\n",
    "import pandas as pd\n",
    "\n",
    "import statsmodels.api as sm\n",
    "from sklearn.model_selection import train_test_split \n",
    "from sklearn.preprocessing import PolynomialFeatures\n",
    "from sklearn.metrics import mean_squared_error\n",
    "\n",
    "import operator\n",
    "import matplotlib.pyplot as plt\n",
    "import matplotlib.lines as mlines\n",
    "import mpl_toolkits.axisartist as AA\n",
    "from mpl_toolkits.axes_grid1 import host_subplot"
   ]
  },
  {
   "cell_type": "markdown",
   "metadata": {},
   "source": [
    "The data_prep() function takes as input:\n",
    "\n",
    "a dataset: a dataframe with columns the different countries and rows the confirmed cases of each date,\n",
    "\n",
    "a country: the wanted column of the dataframe,\n",
    "\n",
    "final_date: the number of dates from the end of the dataset that we want to exclude, f.ex if our dataset has entries until the 23/3/2020 and we want to stop our analysis on the 20/3/2020, we exclude 3 days (final_date=3).\n",
    "\n",
    "The data_prep() function returns the dates as date counts (integers) (x axis) and the confirmed counts of each date (y axis), as numpy.ndarrays, in order to do polynomial regression."
   ]
  },
  {
   "cell_type": "code",
   "execution_count": 2,
   "metadata": {},
   "outputs": [],
   "source": [
    "def data_prep(dataset, country, final_date):\n",
    "\n",
    "    dates_to_num = []      # convert the dates to integers \n",
    "    for i in range(len(dataset.index)-final_date):\n",
    "        dates_to_num.append(i)      # exclude dates from the end\n",
    "    dates_to_num = np.asarray(dates_to_num)      # transform to class 'numpy.ndarray'\n",
    "    \n",
    "    y = dataset[country].tolist()\n",
    "    y = y[:-final_date]      # exclude the counts of the excluded dates    \n",
    "    y = np.asarray(y)      # transform to class 'numpy.ndarray'\n",
    "\n",
    "    # transform the data to include another axis --> numpy.ndarray\n",
    "    x = dates_to_num[:, np.newaxis]\n",
    "    y = y[:, np.newaxis]\n",
    "    \n",
    "    return (x, y)   "
   ]
  },
  {
   "cell_type": "markdown",
   "metadata": {},
   "source": [
    "### Polynomial regression \n",
    "\n",
    "The polynomialRegression() function takes as input the country name, the x, y outputs of the previous function, the degree of the polynomial curve that we want to fit our data. \n",
    "\n",
    "The polynomialRegression() function returns the value of the BIC criterion of the selected model and the root mean square error of the test set (to test for overfitting)."
   ]
  },
  {
   "cell_type": "code",
   "execution_count": 3,
   "metadata": {},
   "outputs": [],
   "source": [
    "def polynomialRegression(country, x, y, pol_degree, final_date):\n",
    "    \n",
    "    # split the dataset to train set (2/3) and test set (1/3)\n",
    "    X_train, X_test, y_train, y_test = train_test_split(x, y, test_size=0.3, random_state=43)\n",
    "    \n",
    "    # use sklearn to generate polynomials\n",
    "    polynomial_features= PolynomialFeatures(degree=pol_degree)\n",
    "    xp_train = polynomial_features.fit_transform(X_train)\n",
    "    xp_test = polynomial_features.fit_transform(X_test)\n",
    "    \n",
    "    # regression on polynomials using statsmodel OLS\n",
    "    model = sm.OLS(y_train,xp_train).fit()       # OLS(y, X) method takes as an input two array-like objects\n",
    "    y_test_pred = model.predict(xp_test) \n",
    "    \n",
    "    # calculate the root mean square error of the test set\n",
    "    rmse = np.sqrt(mean_squared_error(y_test,y_test_pred))\n",
    "    \n",
    "    return (model.rsquared, model.rsquared_adj, model.bic, rmse)   "
   ]
  },
  {
   "cell_type": "markdown",
   "metadata": {},
   "source": [
    "Once we have identified the optimal model, the polRegr_plot() function plots the dataset and the regression line and predicts the count of identified cases of future dates."
   ]
  },
  {
   "cell_type": "code",
   "execution_count": 4,
   "metadata": {},
   "outputs": [],
   "source": [
    "def polRegr_plot(country, pol_degree, final_date, future_days):\n",
    "\n",
    "    future_days = np.asarray(future_days)   \n",
    "    future_days = future_days[:, np.newaxis]   \n",
    "\n",
    "    X_train, X_test, y_train, y_test = train_test_split(x, y, test_size=0.3, random_state=43)\n",
    "\n",
    "    polynomial_features= PolynomialFeatures(degree=pol_degree)\n",
    "    xp_train = polynomial_features.fit_transform(X_train)\n",
    "    xp_test = polynomial_features.fit_transform(X_test)\n",
    "    xp_predict = polynomial_features.fit_transform(future_days)    \n",
    "\n",
    "    model = sm.OLS(y_train,xp_train).fit()\n",
    "    ypred = model.predict(xp_train) \n",
    "    y_test_pred = model.predict(xp_test) \n",
    "    cases_pred = model.predict(xp_predict)   \n",
    "    \n",
    "    ########## Plotting ##########\n",
    "\n",
    "    # List of all the dates we have data plus the dates we have predicted (as timestamps)\n",
    "    dates = dataset.index[0:-final_date]\n",
    "    date_series = dates[0] + pd.to_timedelta(np.arange(  len(dates) + len(future_days)  ), 'D')\n",
    "    # Convert the time stamps into a list of strings\n",
    "    dates_asstr = []\n",
    "    for item in date_series:\n",
    "        date = item.strftime(\"%d-%b\")\n",
    "        dates_asstr.append(date)\n",
    "    # The dates used for labeling the twin axis (in approximation to give the general idea)\n",
    "    dates_aslabels = [dates_asstr[0],dates_asstr[12],dates_asstr[25],dates_asstr[40],dates_asstr[53],dates_asstr[-1]]    \n",
    "        \n",
    "    #Setup a host axis\n",
    "    host = host_subplot(111, axes_class=AA.Axes)\n",
    "    plt.subplots_adjust(bottom=0.1)  \n",
    "    #Add twin y axis with offset from bottom and hide top axis\n",
    "    par = host.twiny()\n",
    "    new_fixed_axis = host.get_grid_helper().new_fixed_axis\n",
    "    par.axis[\"bottom\"] = new_fixed_axis(loc=\"bottom\", axes=par, offset=(0, -40))\n",
    "    par.axis[\"top\"].set_visible(False)\n",
    "    par.axis[\"bottom\"].major_ticklabels.set_rotation(20)        \n",
    "\n",
    "    # Create legend\n",
    "    blue_dot = mlines.Line2D([], [], color='b', marker='.', markersize=10, label='Train set')\n",
    "    red_dot = mlines.Line2D([], [], color='r', marker='.', markersize=10, label='Test set')\n",
    "    purple_dot = mlines.Line2D([], [], color='purple', marker='.', markersize=10, label='Future predictions')\n",
    "    plt.legend(handles=[blue_dot, red_dot, purple_dot])\n",
    "    \n",
    "    \n",
    "    plt.scatter(X_train, y_train, s=10, c='b')    # the training set ponts\n",
    "    plt.scatter(X_test, y_test, s=10, c='r')    # the test set points\n",
    "    \n",
    "    # Regression line (sort the values of x before line plot)\n",
    "    sort_axis = operator.itemgetter(0)\n",
    "    sorted_zip = sorted(zip(X_train,ypred), key=sort_axis)\n",
    "    X_train, ypred = zip(*sorted_zip)\n",
    "\n",
    "    plt.scatter(future_days,  cases_pred , s=10, c='purple')    # the predicted points\n",
    "\n",
    "    plt.title('Polynomial of degree ' + str(pol_degree) + ', ' + country)\n",
    "    plt.ylabel('Confirmed cases')\n",
    "    plt.xlabel('Number of days from: ' + dates_asstr[0])\n",
    "    plt.plot(X_train, ypred, color='m')\n",
    "    par.set_xlabel(\"Dates\")\n",
    "    par.set_xticklabels(dates_aslabels, fontsize=0.20)\n",
    "    \n",
    "    #plt.savefig(country + str(pol_degree) + '.png')    # the plot can be saved in a png file\n",
    "    plt.draw()\n",
    "    plt.show()\n",
    "    \n",
    "    return (model.summary(), cases_pred)"
   ]
  },
  {
   "cell_type": "markdown",
   "metadata": {},
   "source": [
    "#### Selection of the optimal model from polynomials of degree up to M=9, that best characterizes the growth curve of COVID-19 cases."
   ]
  },
  {
   "cell_type": "code",
   "execution_count": 5,
   "metadata": {},
   "outputs": [],
   "source": [
    "# Import the time_series_covid_19_confirmed.csv file as dataframe\n",
    "# The Country/Region column is selected as the index of each row\n",
    "data_input = pd.read_csv('time_series_covid_19_confirmed.csv',index_col='Country/Region')    \n",
    "\n",
    "# Transpose the matrix and remove the columns Province/State, Lat, Long \n",
    "data_input = data_input.transpose().iloc[3:,:]  \n",
    "\n",
    "# The dates are the index of each row, convert the dates to DatetimeIndex format\n",
    "data_input.index = pd.to_datetime(data_input.index)\n",
    "dataset = data_input.groupby(data_input.columns, axis=1).sum()    # sum the colums with the same name\n",
    "\n",
    "\n",
    "\n",
    "countries = ['China','Korea, South','Japan','Italy','Spain','France','United Kingdom','Germany','Netherlands','US','Greece']\n",
    "out_data = {}\n",
    "for country in countries:\n",
    "    x, y = data_prep(dataset, country, final_date = 3)      \n",
    "    statistics_list = []\n",
    "    for i in range(1,10):\n",
    "        r_sqrt, r_sqrt_adj, bic, rmse = polynomialRegression(country, x, y, pol_degree = i, final_date = 3)     \n",
    "        statistics_list.append( (  round(r_sqrt,3), round(r_sqrt_adj,3), round(bic,2), round(rmse,2)  ) )\n",
    "    out_data[country] = statistics_list\n",
    "        \n",
    "Polynomial_degree = ['degree 1','degree 2','degree 3','degree 4','degree 5','degree 6','degree 7','degree 8','degree 9']\n",
    "final_df = pd.DataFrame(out_data,index=Polynomial_degree )\n",
    "final_df.to_excel('OLS_stats.xlsx')      # print table in exel file"
   ]
  },
  {
   "cell_type": "markdown",
   "metadata": {},
   "source": [
    "The R-suared, the adj. R-squared, the BIC criterion and the root mean square error of polynomials of degree up to 9 for each selected country are printed out in the file: OLS_stats.xlsx.\n",
    "\n",
    "#### Visualization of the data and  future predictions"
   ]
  },
  {
   "cell_type": "code",
   "execution_count": 6,
   "metadata": {},
   "outputs": [
    {
     "data": {
      "image/png": "[encoded data removed]",
      "text/plain": [
       "<Figure size 432x288 with 1 Axes>"
      ]
     },
     "metadata": {
      "needs_background": "light"
     },
     "output_type": "display_data"
    },
    {
     "data": {
      "text/plain": [
       "(<class 'statsmodels.iolib.summary.Summary'>\n",
       " \"\"\"\n",
       "                             OLS Regression Results                            \n",
       " ==============================================================================\n",
       " Dep. Variable:                      y   R-squared:                       0.999\n",
       " Model:                            OLS   Adj. R-squared:                  0.999\n",
       " Method:                 Least Squares   F-statistic:                     5580.\n",
       " Date:                Tue, 15 Mar 2022   Prob (F-statistic):           9.96e-50\n",
       " Time:                        14:50:04   Log-Likelihood:                -154.30\n",
       " No. Observations:                  41   AIC:                             320.6\n",
       " Df Residuals:                      35   BIC:                             330.9\n",
       " Df Model:                           5                                         \n",
       " Covariance Type:            nonrobust                                         \n",
       " ==============================================================================\n",
       "                  coef    std err          t      P>|t|      [0.025      0.975]\n",
       " ------------------------------------------------------------------------------\n",
       " const          1.6949      7.976      0.212      0.833     -14.497      17.887\n",
       " x1            -0.5557      3.007     -0.185      0.854      -6.660       5.548\n",
       " x2             0.4474      0.344      1.301      0.202      -0.251       1.145\n",
       " x3            -0.0344      0.016     -2.210      0.034      -0.066      -0.003\n",
       " x4             0.0011      0.000      3.520      0.001       0.000       0.002\n",
       " x5         -8.768e-06   2.06e-06     -4.247      0.000    -1.3e-05   -4.58e-06\n",
       " ==============================================================================\n",
       " Omnibus:                       11.474   Durbin-Watson:                   2.310\n",
       " Prob(Omnibus):                  0.003   Jarque-Bera (JB):               16.277\n",
       " Skew:                          -0.749   Prob(JB):                     0.000292\n",
       " Kurtosis:                       5.699   Cond. No.                     9.93e+08\n",
       " ==============================================================================\n",
       " \n",
       " Warnings:\n",
       " [1] Standard Errors assume that the covariance matrix of the errors is correctly specified.\n",
       " [2] The condition number is large, 9.93e+08. This might indicate that there are\n",
       " strong multicollinearity or other numerical problems.\n",
       " \"\"\",\n",
       " array([ 993.60697053, 1021.48429493, 1045.62075486, 1065.41774603,\n",
       "        1080.2378266 , 1089.40366501]))"
      ]
     },
     "execution_count": 6,
     "metadata": {},
     "output_type": "execute_result"
    }
   ],
   "source": [
    "country = 'Japan'   #### Choose the name of the country\n",
    "pol_degree = 5      #### Choose the degree of the polynomial\n",
    "final_date = 3      #### Choose until which day (from the end of the dataset) you want to work with\n",
    "future_days = [59, 60, 61, 62, 63, 64]     # we have data from day 0: 22/1/20 until day 58: 20/1/20 (in total 59 dates)\n",
    "\n",
    "x, y = data_prep(dataset, country, final_date)\n",
    "polRegr_plot(country, pol_degree, final_date, future_days)"
   ]
  },
  {
   "cell_type": "code",
   "execution_count": null,
   "metadata": {},
   "outputs": [],
   "source": []
  }
 ],
 "metadata": {
  "kernelspec": {
   "display_name": "Python 3",
   "language": "python",
   "name": "python3"
  },
  "language_info": {
   "codemirror_mode": {
    "name": "ipython",
    "version": 3
   },
   "file_extension": ".py",
   "mimetype": "text/x-python",
   "name": "python",
   "nbconvert_exporter": "python",
   "pygments_lexer": "ipython3",
   "version": "3.7.6"
  }
 },
 "nbformat": 4,
 "nbformat_minor": 4
}
