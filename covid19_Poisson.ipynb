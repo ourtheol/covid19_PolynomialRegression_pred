{
 "cells": [
  {
   "cell_type": "markdown",
   "metadata": {},
   "source": [
    "### Poisson regression on COVID-19 time series dataset \n",
    "\n",
    "For Epidemiological time series datasets, Poisson regression and Poisson autoregressive regression models have been applied to various studies. Time series data from different countries (China, South Korea, Japan, Italy, Spain, France, UK, Germany, Netherlands, USA, and Greece) were retrieved from the kaggle website (\"Novel Corona Virus 2019 Dataset\", 2020 https://www.kaggle.com/sudalairajkumar/novel-corona-virus-2019-dataset). The Poisson regression model was fitted to a train set (2/3 of the dataset) and a test set (1/3 of the dataset).\n",
    "\n",
    "In the case of the COVID-19 available time series dataset, the Poisson regression model did not seem to perform well. \n"
   ]
  },
  {
   "cell_type": "code",
   "execution_count": 1,
   "metadata": {},
   "outputs": [],
   "source": [
    "import pandas as pd\n",
    "from patsy import dmatrices\n",
    "import numpy as np\n",
    "import statsmodels.api as sm\n",
    "import matplotlib.pyplot as plt\n",
    "from sklearn.model_selection import train_test_split "
   ]
  },
  {
   "cell_type": "code",
   "execution_count": 2,
   "metadata": {},
   "outputs": [],
   "source": [
    "country_choise = 'Japan'    ######################change country\n",
    "#In the available dataset the last day with available data is 23/03/2020\n",
    "#I use the counted covid cases untill March 20, 2020, in order to test the precission of my model's prediction in the days (21-23/032020)\n",
    "last_day = 3"
   ]
  },
  {
   "cell_type": "code",
   "execution_count": 4,
   "metadata": {},
   "outputs": [
    {
     "name": "stdout",
     "output_type": "stream",
     "text": [
      "Training data set length=41\n",
      "Testing data set length=18\n"
     ]
    }
   ],
   "source": [
    "data_input = pd.read_csv('time_series_covid_19_confirmed.csv',index_col='Country/Region')    \n",
    "\n",
    "# Transpose the matrix and remove the columns Province/State, Lat, Long \n",
    "data_input = data_input.transpose().iloc[3:,:]  \n",
    "\n",
    "# The dates are the index of each row, convert the dates to DatetimeIndex format\n",
    "data_input.index = pd.to_datetime(data_input.index)\n",
    "dataset = data_input.groupby(data_input.columns, axis=1).sum()\n",
    "\n",
    "df = dataset[country_choise][:-last_day].to_frame()    ## not to include the data after 23/3, in a data frame\n",
    "\n",
    "ds = df.index.to_series()\n",
    "df['MONTH'] = ds.dt.month\n",
    "df['DAY'] = ds.dt.day\n",
    "\n",
    "df_train, df_test = train_test_split(df, test_size=0.3, random_state=43)\n",
    "#mask = np.random.rand(len(df)) < 0.8\n",
    "#df_train = df[mask]\n",
    "#df_test = df[~mask]\n",
    "print('Training data set length='+str(len(df_train)))\n",
    "print('Testing data set length='+str(len(df_test)))\n",
    "#print(df_test)\n",
    "expr = \"\"\"Japan ~ MONTH + DAY\"\"\"      ######################change country\n",
    "\n",
    "y_train, X_train = dmatrices(expr, df_train, return_type='dataframe')\n",
    "y_test, X_test = dmatrices(expr, df_test, return_type='dataframe')"
   ]
  },
  {
   "cell_type": "code",
   "execution_count": 5,
   "metadata": {},
   "outputs": [
    {
     "name": "stdout",
     "output_type": "stream",
     "text": [
      "                 Generalized Linear Model Regression Results                  \n",
      "==============================================================================\n",
      "Dep. Variable:                  Japan   No. Observations:                   41\n",
      "Model:                            GLM   Df Residuals:                       38\n",
      "Model Family:                 Poisson   Df Model:                            2\n",
      "Link Function:                    log   Scale:                          1.0000\n",
      "Method:                          IRLS   Log-Likelihood:                -251.36\n",
      "Date:                Tue, 15 Mar 2022   Deviance:                       249.06\n",
      "Time:                        15:08:14   Pearson chi2:                     233.\n",
      "No. Iterations:                     6                                         \n",
      "Covariance Type:            nonrobust                                         \n",
      "==============================================================================\n",
      "                 coef    std err          z      P>|z|      [0.025      0.975]\n",
      "------------------------------------------------------------------------------\n",
      "Intercept     -1.9291      0.090    -21.387      0.000      -2.106      -1.752\n",
      "MONTH          2.4852      0.027     92.014      0.000       2.432       2.538\n",
      "DAY            0.0742      0.002     42.507      0.000       0.071       0.078\n",
      "==============================================================================\n",
      "<statsmodels.genmod._prediction.PredictionResults object at 0x7f72f7779150>\n",
      "                  mean    mean_se  mean_ci_lower  mean_ci_upper\n",
      "2020-02-05   30.338351   1.040183      28.366621      32.447132\n",
      "2020-03-05  364.167629   6.719461     351.233024     377.578568\n",
      "2020-03-04  338.114370   6.721266     325.194259     351.547802\n",
      "2020-02-13   54.940632   1.399190      52.265587      57.752589\n",
      "2020-03-14  710.298228   7.865010     695.049159     725.881854\n",
      "2020-03-15  765.029956   8.685617     748.194466     782.244270\n",
      "2020-02-29  180.176029   4.985773     170.664360     190.217814\n",
      "2020-02-10   43.972435   1.244075      41.600465      46.479650\n",
      "2020-02-04   28.167886   1.003366      26.268404      30.204721\n",
      "2020-01-27   12.939343   0.594398      11.825250      14.158398\n",
      "2020-02-24  124.310685   2.945374     118.669848     130.219653\n",
      "2020-01-28   13.936378   0.641465      12.734173      15.252082\n",
      "2020-02-09   40.826562   1.199541      38.541918      43.246632\n",
      "2020-03-17  887.470369  11.217813     865.753976     909.731492\n",
      "2020-03-02  291.466206   6.664721     278.691982     304.825954\n",
      "2020-03-09  490.063300   6.623022     477.252827     503.217632\n",
      "2020-02-22  107.160083   2.449142     102.465778     112.069449\n",
      "2020-01-25   11.154158   0.512585      10.193426      12.205440\n"
     ]
    }
   ],
   "source": [
    "poisson_training_results = sm.GLM(y_train, X_train, family=sm.families.Poisson()).fit()\n",
    "print(poisson_training_results.summary())\n",
    "\n",
    "poisson_predictions = poisson_training_results.get_prediction(X_test)\n",
    "predictions_summary_frame = poisson_predictions.summary_frame()\n",
    "print(poisson_predictions)\n",
    "print(predictions_summary_frame)"
   ]
  },
  {
   "cell_type": "code",
   "execution_count": 6,
   "metadata": {},
   "outputs": [
    {
     "name": "stdout",
     "output_type": "stream",
     "text": [
      "2020-03-21    1194.275994\n",
      "2020-03-22    1286.300424\n",
      "2020-03-23    1385.415758\n",
      "2020-03-24    1492.168382\n",
      "2020-03-25    1607.146784\n",
      "2020-03-26    1730.984798\n",
      "dtype: float64\n"
     ]
    }
   ],
   "source": [
    "dates_fc = pd.to_datetime(['2020-3-21', '2020-3-22', '2020-3-23', '2020-3-24', '2020-3-25', '2020-3-26'])\n",
    "month = [3, 3, 3, 3, 3, 3]\n",
    "day = [21, 22, 23, 24, 25, 26]\n",
    "intercept = [1, 1, 1, 1, 1, 1]\n",
    "d = {'Intercept': intercept, 'MONTH':month, 'DAY':day}\n",
    "\n",
    "df_fc = pd.DataFrame(data = d, index = dates_fc)\n",
    "#print(df_fc)\n",
    "#print(type(df_fc.index))\n",
    "\n",
    "predictions = poisson_training_results.predict(df_fc)\n",
    "print(predictions)"
   ]
  },
  {
   "cell_type": "code",
   "execution_count": 7,
   "metadata": {},
   "outputs": [
    {
     "data": {
      "image/png": "[encoded data removed]",
      "text/plain": [
       "<Figure size 864x360 with 1 Axes>"
      ]
     },
     "metadata": {
      "needs_background": "light"
     },
     "output_type": "display_data"
    }
   ],
   "source": [
    "actual_counts = y_train[country_choise]    \n",
    "y = y_test[country_choise]\n",
    "\n",
    "fig = plt.figure(figsize=(12,5))\n",
    "fig.suptitle('Predicted counts versus actual counts of confirmed cases, ' + country_choise)\n",
    "predicted, = plt.plot(X_test.index, y, 'go', label='Test set')\n",
    "actual, = plt.plot(X_train.index, actual_counts, 'ro', label='Train set')\n",
    "future, = plt.plot(predictions.index, predictions, 'yo', label='Forecast')\n",
    "\n",
    "plt.legend(handles=[predicted, actual, future])\n",
    "plt.show()"
   ]
  },
  {
   "cell_type": "code",
   "execution_count": null,
   "metadata": {},
   "outputs": [],
   "source": []
  }
 ],
 "metadata": {
  "kernelspec": {
   "display_name": "Python 3",
   "language": "python",
   "name": "python3"
  },
  "language_info": {
   "codemirror_mode": {
    "name": "ipython",
    "version": 3
   },
   "file_extension": ".py",
   "mimetype": "text/x-python",
   "name": "python",
   "nbconvert_exporter": "python",
   "pygments_lexer": "ipython3",
   "version": "3.7.6"
  }
 },
 "nbformat": 4,
 "nbformat_minor": 4
}
